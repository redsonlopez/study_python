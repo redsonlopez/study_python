{
 "cells": [
  {
   "cell_type": "markdown",
   "id": "500de9c0-0c84-4b02-a955-4fb4afb84b9b",
   "metadata": {},
   "source": [
    "### Frações"
   ]
  },
  {
   "cell_type": "code",
   "execution_count": 42,
   "id": "3636bfee-3aca-4701-af81-0774d43c626c",
   "metadata": {},
   "outputs": [
    {
     "name": "stdout",
     "output_type": "stream",
     "text": [
      "11/15\n",
      "0.7333333333333334\n",
      "0.7333333333333334\n",
      "0.7333333333333333\n"
     ]
    }
   ],
   "source": [
    "from fractions import Fraction\n",
    "\n",
    "x1= 1/3\n",
    "f1= Fraction(1, 3)  # 1/3\n",
    "x2= 2/5\n",
    "f2= Fraction(2, 5)  # 2/5\n",
    "\n",
    "print(f1 + f2)\n",
    "print(x1 + f2)\n",
    "print(x1 + x2)\n",
    "print(11/15)"
   ]
  },
  {
   "cell_type": "markdown",
   "id": "fef586da-68b3-439f-a233-0e19e20b88de",
   "metadata": {},
   "source": [
    "### Maxímo Divisor Comum (MDC)"
   ]
  },
  {
   "cell_type": "code",
   "execution_count": 41,
   "id": "192f5827-2ebb-44f9-b820-3be3ca462a08",
   "metadata": {},
   "outputs": [
    {
     "name": "stdout",
     "output_type": "stream",
     "text": [
      "6\n"
     ]
    }
   ],
   "source": [
    "def mdc(a, b):\n",
    "    while b != 0:\n",
    "        swap= a\n",
    "        a= b\n",
    "        b= swap % b\n",
    "    return a\n",
    "\n",
    "print(mdc(18, 48))"
   ]
  }
 ],
 "metadata": {
  "kernelspec": {
   "display_name": "Python 3 (ipykernel)",
   "language": "python",
   "name": "python3"
  },
  "language_info": {
   "codemirror_mode": {
    "name": "ipython",
    "version": 3
   },
   "file_extension": ".py",
   "mimetype": "text/x-python",
   "name": "python",
   "nbconvert_exporter": "python",
   "pygments_lexer": "ipython3",
   "version": "3.12.6"
  }
 },
 "nbformat": 4,
 "nbformat_minor": 5
}
